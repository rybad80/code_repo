{
 "cells": [
  {
   "cell_type": "code",
   "execution_count": 1,
   "metadata": {},
   "outputs": [
    {
     "name": "stdout",
     "output_type": "stream",
     "text": [
      "<root>\n",
      "  <ClientReport>\n",
      "    <ID>439</ID>\n",
      "    <ServiceCategory>25</ServiceCategory>\n",
      "    <ServiceDate>2017-12-05</ServiceDate>\n",
      "  </ClientReport>\n",
      "  <ClientReport>\n",
      "    <ID>444654</ID>\n",
      "    <ServiceCategory>25</ServiceCategory>\n",
      "    <ServiceDate>2017-01-25</ServiceDate>\n",
      "  </ClientReport>\n",
      "  <ClientReport>\n",
      "    <ID>56454</ID>\n",
      "    <ServiceCategory>33</ServiceCategory>\n",
      "    <ServiceDate>2017-12-05</ServiceDate>\n",
      "  </ClientReport>\n",
      "  <ClientReport>\n",
      "    <ID>12222</ID>\n",
      "    <ServiceCategory>25</ServiceCategory>\n",
      "    <ServiceDate>2017-01-25</ServiceDate>\n",
      "  </ClientReport>\n",
      "</root>\n",
      "\n"
     ]
    }
   ],
   "source": [
    "import pandas as pd\n",
    "from lxml import etree as et\n",
    "\n",
    "df = pd.DataFrame({'id_profile': [439, 444654, 56454, 12222], 'ServiceDate':\n",
    "['2017-12-05', '2017-01-25', '2017-12-05', '2017-01-25'],\n",
    "'PrimaryServiceCategory': [25, 25, 33, 25]})\n",
    "\n",
    "root = et.Element('root')\n",
    "\n",
    "for row in df.iterrows():\n",
    "    report = et.SubElement(root, 'ClientReport')\n",
    "    idnum = et.SubElement(report, 'ID')\n",
    "    prime_serv = et.SubElement(report, 'ServiceCategory')\n",
    "    serv_date = et.SubElement(report, 'ServiceDate')\n",
    "    idnum.text = str(row[1]['id_profile'])\n",
    "    prime_serv.text = str(row[1]['PrimaryServiceCategory'])\n",
    "    serv_date.text = str(row[1]['ServiceDate'])\n",
    "\n",
    "print(et.tostring(root, pretty_print=True).decode('utf-8'))"
   ]
  },
  {
   "cell_type": "code",
   "execution_count": null,
   "metadata": {},
   "outputs": [],
   "source": []
  }
 ],
 "metadata": {
  "kernelspec": {
   "display_name": "Python 3",
   "language": "python",
   "name": "python3"
  },
  "language_info": {
   "codemirror_mode": {
    "name": "ipython",
    "version": 3
   },
   "file_extension": ".py",
   "mimetype": "text/x-python",
   "name": "python",
   "nbconvert_exporter": "python",
   "pygments_lexer": "ipython3",
   "version": "3.6.4"
  }
 },
 "nbformat": 4,
 "nbformat_minor": 2
}
