{
 "cells": [
  {
   "cell_type": "code",
   "execution_count": 8,
   "metadata": {},
   "outputs": [
    {
     "name": "stdout",
     "output_type": "stream",
     "text": [
      "Enter Last Name: Lowry\n",
      "Enter First Name: Meghan\n",
      "user exists in Sensis\n",
      "   code            meaning\n",
      "0   211  Lowry, Meghan, RN\n",
      "here is the user record as it exists in CardioAccess\n",
      "   ContactID ContactIDFT FirstName LastName\n",
      "0       1519                Meghan    Lowry\n",
      "Ok to run script to load Sensis ID into CardioAccess? (Y/N)y\n"
     ]
    }
   ],
   "source": [
    "import pandas as pd\n",
    "import pyodbc\n",
    "import os\n",
    "import numpy as np\n",
    "import csv\n",
    "import time\n",
    "import datetime\n",
    "#import sqlalchemy\n",
    "import logging\n",
    "from sqlalchemy import create_engine\n",
    "\n",
    "# ###########\n",
    "# New User to ad\n",
    "# ###########\n",
    "\n",
    "#last_name = 'Lowry'\n",
    "#first_name = 'Meghan'\n",
    "last_name = input('Enter Last Name: ')\n",
    "first_name = input('Enter First Name: ')\n",
    "\n",
    "\n",
    "# ###########\n",
    "# CardioAccess SQL Server\n",
    "# ###########\n",
    "\n",
    "ca_sql_uid = 'cardio'\n",
    "ca_sql_pwd = 'access'\n",
    "ca_server = 'PSQLA012'\n",
    "driver = 'SQL Server'\n",
    "ca_database = 'Centripetus'\n",
    "ca_sql_cnxn = pyodbc.connect(f'DRIVER={driver};SERVER={ca_server};DATABASE={ca_database}',uid=ca_sql_uid,pwd=ca_sql_pwd)\n",
    "\n",
    "# ###########\n",
    "# Sensis SQL Server\n",
    "# ###########\n",
    " \n",
    "sen_sql_uid = 'local_reader'\n",
    "sen_sql_pwd = '$enS1s_R3ad'\n",
    "sen_server = 'CATHSENPW1'\n",
    "driver = 'SQL Server'\n",
    "sen_database = 'mismain'\n",
    "sen_sql_cnxn = pyodbc.connect(f'DRIVER={driver};SERVER={sen_server};DATABASE={sen_database}',uid=sen_sql_uid,pwd=sen_sql_pwd)\n",
    "\n",
    "\n",
    "# ###########\n",
    "# Lookup User in Sensis\n",
    "# ###########\n",
    "sensis_sql = f'''\n",
    "   select\n",
    "         code,\n",
    "         meaning\n",
    "    from \n",
    "         dicpnname\n",
    "   where \n",
    "         meaning like ('%{last_name}%{first_name}%')\n",
    "'''\n",
    "\n",
    "sen_recs = pd.read_sql(sensis_sql, sen_sql_cnxn)\n",
    "#print(sen_recs)\n",
    "try:\n",
    "    sen_user_id = sen_recs['code'].apply(str)[0]\n",
    "    print('user exists in Sensis')\n",
    "    print(sen_recs)\n",
    "\n",
    "    # ###########\n",
    "    # Lookup User in CardioAccess\n",
    "    # ###########\n",
    "    ca_sql = f'''\n",
    "    select \n",
    "          ContactID,\n",
    "          ContactIDFT,\n",
    "          FirstName,\n",
    "          LastName\n",
    "     from \n",
    "          contacts\n",
    "    where \n",
    "          LastName like ('%{last_name}%')\n",
    "         and FirstName like  ('%{first_name}%')\n",
    "    '''\n",
    "    ##check record to make sure it is the correct/only one\n",
    "    ca_recs = pd.read_sql(ca_sql, ca_sql_cnxn)\n",
    "    print('here is the user record as it exists in CardioAccess')\n",
    "    print(ca_recs)\n",
    "    ca_user_id = ca_recs['ContactID'].apply(str)[0]\n",
    "\n",
    "    proceed_input = input('Ok to run script to load Sensis ID into CardioAccess? (Y/N)')\n",
    "    \n",
    "except:\n",
    "    print('user has not been entered into Sensis')    \n"
   ]
  },
  {
   "cell_type": "code",
   "execution_count": 10,
   "metadata": {},
   "outputs": [
    {
     "name": "stdout",
     "output_type": "stream",
     "text": [
      "CardioAccess update complete for {first_name} {last_name{}\n",
      "   ContactID ContactIDFT FirstName LastName\n",
      "0       1519         211    Meghan    Lowry\n"
     ]
    }
   ],
   "source": [
    "if proceed_input == 'Y' or proceed_input == 'y':\n",
    "    cursor = ca_sql_cnxn.cursor()\n",
    "\n",
    "    cursor.execute(f'''\n",
    "                    UPDATE contacts\n",
    "                    SET ContactIDFT = '{sen_user_id}'\n",
    "                    WHERE ContactID = '{ca_user_id}'\n",
    "                    ''')\n",
    "    cursor.commit()\n",
    "\n",
    "    ##verify changes were successful\n",
    "    ca_recs = pd.read_sql(ca_sql, ca_sql_cnxn)\n",
    "    print('CardioAccess update complete for {first_name} {last_name{}')\n",
    "    print(ca_recs)\n",
    "else:   \n",
    "    sys.exit()"
   ]
  },
  {
   "cell_type": "code",
   "execution_count": null,
   "metadata": {},
   "outputs": [],
   "source": []
  }
 ],
 "metadata": {
  "kernelspec": {
   "display_name": "Python 3",
   "language": "python",
   "name": "python3"
  },
  "language_info": {
   "codemirror_mode": {
    "name": "ipython",
    "version": 3
   },
   "file_extension": ".py",
   "mimetype": "text/x-python",
   "name": "python",
   "nbconvert_exporter": "python",
   "pygments_lexer": "ipython3",
   "version": "3.6.4"
  }
 },
 "nbformat": 4,
 "nbformat_minor": 2
}
