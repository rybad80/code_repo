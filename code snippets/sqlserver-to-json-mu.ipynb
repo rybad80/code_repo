{
 "cells": [
  {
   "cell_type": "code",
   "execution_count": 1,
   "metadata": {},
   "outputs": [
    {
     "name": "stdout",
     "output_type": "stream",
     "text": [
      "ClinibaseImpactDiagnosis\n",
      "ClinibaseSensisProcedurePerformed\n",
      "procedures1\n"
     ]
    }
   ],
   "source": [
    "import pandas as pd\n",
    "import pyodbc\n",
    "import os\n",
    "import numpy as np\n",
    "import csv\n",
    "import time\n",
    "import datetime\n",
    "import json\n",
    "from urllib.request import urlopen\n",
    "\n",
    "\n",
    "# ###########\n",
    "# SQL Server\n",
    "# ###########\n",
    "source_name = 'clinibase'\n",
    "sql_uid = 'CCIS_Data_Access'\n",
    "sql_pwd = 'Cc1$0a!@'\n",
    "server = 'QSQLA177'\n",
    "driver = 'SQL Server'\n",
    "database = 'Clinibase_Repository'\n",
    "sql_cnxn = pyodbc.connect(f'DRIVER={driver};SERVER={server};DATABASE={database}',uid=sql_uid,pwd=sql_pwd)\n",
    "\n",
    "# #############################################################################\n",
    "# funciton to validate comp\n",
    "# #############################################################################\n",
    "\n",
    "def validateJSON(jsonData):\n",
    "    try:\n",
    "        json.loads(jsonData)\n",
    "    except ValueError as err:\n",
    "        return '*****False*****'\n",
    "    return 'True'\n",
    "\n",
    "# #############################################################################\n",
    "# get table list to iterate over\n",
    "# #############################################################################\n",
    "\n",
    "with open(\"adhoc.sql\", 'r') as f:\n",
    "    tablelistsql = f.read()\n",
    "    tablesdf = pd.read_sql(tablelistsql, sql_cnxn) \n",
    "    tablelist = tablesdf['table_name'].tolist()\n",
    "\n",
    "# #############################################################################\n",
    "# loop through each table to output query to json\n",
    "# #############################################################################\n",
    "    for t in tablelist:\n",
    "        print(t)\n",
    "        retrieve_mu_text = open('sqlserver_to_mu_json.sql').read()\n",
    "        #print(retrieve_mu_text)\n",
    "        param_tbl_sql = retrieve_mu_text.replace('XXXXXXXX',t) #tablename\n",
    "        param_entity_sql = param_tbl_sql.replace('YYYYYYYY',source_name) #entity name\n",
    "        #print(param_entity_sql)\n",
    "        mu_text = pd.read_sql(param_entity_sql, sql_cnxn)  \n",
    "        mu_text['jsontext'] = mu_text['jsontext'].replace(r'\\s+|\\\\n', ' ', regex=True) \n",
    "\n",
    "        with open(os.path.join(os.getcwd(),'json',f'{source_name}_{t}.json'),'a') as write_file:\n",
    "            mutexttojson = mu_text.to_string(header=False, index=False)\n",
    "            #print(mutexttojson)\n",
    "            json_out = json.dumps(json.loads(mutexttojson),indent=1)\n",
    "            open(os.path.join(os.getcwd(),'json',f'{source_name}_{t}.json'),'w').write(json_out)\n",
    "            "
   ]
  },
  {
   "cell_type": "code",
   "execution_count": 19,
   "metadata": {},
   "outputs": [],
   "source": [
    "\n",
    "# #############################################################################\n",
    "# loop through new json file to validate\n",
    "# #############################################################################\n",
    "directory = os.path.join(os.getcwd(),'json')\n",
    "for jsonfiles in os.listdir(directory):\n",
    "     jsonfilename = os.fsdecode(jsonfiles)\n",
    "     if jsonfilename.endswith(\".json\"):\n",
    "        with open(os.path.join(directory, jsonfilename), 'r') as j:\n",
    "            isValid = validateJSON(j.read())\n",
    "            print(f'{jsonfiles} is Valid', isValid)\n",
    "     else:\n",
    "         continue            "
   ]
  },
  {
   "cell_type": "code",
   "execution_count": null,
   "metadata": {},
   "outputs": [],
   "source": []
  }
 ],
 "metadata": {
  "kernelspec": {
   "display_name": "Python 3",
   "language": "python",
   "name": "python3"
  },
  "language_info": {
   "codemirror_mode": {
    "name": "ipython",
    "version": 3
   },
   "file_extension": ".py",
   "mimetype": "text/x-python",
   "name": "python",
   "nbconvert_exporter": "python",
   "pygments_lexer": "ipython3",
   "version": "3.6.4"
  }
 },
 "nbformat": 4,
 "nbformat_minor": 2
}
