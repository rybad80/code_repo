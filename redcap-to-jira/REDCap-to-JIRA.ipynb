{
 "cells": [
  {
   "cell_type": "code",
   "execution_count": 2,
   "metadata": {},
   "outputs": [
    {
     "name": "stderr",
     "output_type": "stream",
     "text": [
      "C:\\Users\\rybad\\AppData\\Local\\Continuum\\anaconda3\\lib\\site-packages\\urllib3\\connectionpool.py:858: InsecureRequestWarning: Unverified HTTPS request is being made. Adding certificate verification is strongly advised. See: https://urllib3.readthedocs.io/en/latest/advanced-usage.html#ssl-warnings\n",
      "  InsecureRequestWarning)\n",
      "C:\\Users\\rybad\\AppData\\Local\\Continuum\\anaconda3\\lib\\site-packages\\urllib3\\connectionpool.py:858: InsecureRequestWarning: Unverified HTTPS request is being made. Adding certificate verification is strongly advised. See: https://urllib3.readthedocs.io/en/latest/advanced-usage.html#ssl-warnings\n",
      "  InsecureRequestWarning)\n",
      "C:\\Users\\rybad\\AppData\\Local\\Continuum\\anaconda3\\lib\\site-packages\\urllib3\\connectionpool.py:858: InsecureRequestWarning: Unverified HTTPS request is being made. Adding certificate verification is strongly advised. See: https://urllib3.readthedocs.io/en/latest/advanced-usage.html#ssl-warnings\n",
      "  InsecureRequestWarning)\n",
      "C:\\Users\\rybad\\AppData\\Local\\Continuum\\anaconda3\\lib\\site-packages\\urllib3\\connectionpool.py:858: InsecureRequestWarning: Unverified HTTPS request is being made. Adding certificate verification is strongly advised. See: https://urllib3.readthedocs.io/en/latest/advanced-usage.html#ssl-warnings\n",
      "  InsecureRequestWarning)\n",
      "C:\\Users\\rybad\\AppData\\Local\\Continuum\\anaconda3\\lib\\site-packages\\urllib3\\connectionpool.py:858: InsecureRequestWarning: Unverified HTTPS request is being made. Adding certificate verification is strongly advised. See: https://urllib3.readthedocs.io/en/latest/advanced-usage.html#ssl-warnings\n",
      "  InsecureRequestWarning)\n"
     ]
    }
   ],
   "source": [
    "import logging\n",
    "import pandas as pd\n",
    "import os\n",
    "from itertools import chain\n",
    "import requests\n",
    "import json\n",
    "from datetime import datetime\n",
    "from redcap import Project\n",
    "import jira\n",
    "import parse\n",
    "\n",
    "logging.basicConfig(\n",
    "    format=\"%(asctime)s - %(message)s\", datefmt=\"%Y-%m-%d %H:%M:%S\", level=logging.INFO\n",
    ")\n",
    "\n",
    "# #############################################################################\n",
    "# redcap api setup\n",
    "# #############################################################################\n",
    "api_url = 'https://redcap.chop.edu/api/'\n",
    "api_key = 'C9F11788CCEAEF6D5AF3EF303C4EC9E4'\n",
    "project = Project(api_url, api_key, verify_ssl=False)\n",
    "\n",
    "now = datetime.now()\n",
    "currentdate = now.strftime(\"%Y-%m-%d\")\n",
    "\n",
    "# #############################################################################\n",
    "# Get today's requests from REDCap\n",
    "# #############################################################################\n",
    "\n",
    "loaded_reqs = project.export_records(format='df')\n",
    "loaded_reqs.columns = map(str.upper, loaded_reqs.columns)\n",
    "loaded_reqs_df = pd.DataFrame(loaded_reqs,columns = ['cc_data_request_id','REQUEST_TITLE', 'DATE_OF_REQUEST','STUDY_DESCRIPTION','REQUESTOR_NAME','LOADED_TO_JIRA','ATTACH'])\n",
    "\n",
    "daily_req_df=loaded_reqs_df.loc[loaded_reqs_df['LOADED_TO_JIRA'].isnull()]"
   ]
  },
  {
   "cell_type": "code",
   "execution_count": 4,
   "metadata": {},
   "outputs": [
    {
     "name": "stderr",
     "output_type": "stream",
     "text": [
      "2022-02-01 16:33:45 - HTTPSConnectionPool(host='chopdna.atlassian.net', port=443): Max retries exceeded with url: /rest/api/2/serverInfo (Caused by SSLError(SSLError(\"bad handshake: Error([('SSL routines', 'tls_process_server_certificate', 'certificate verify failed')],)\",),)) while doing GET https://chopdna.atlassian.net/rest/api/2/serverInfo [{'params': None, 'headers': {'User-Agent': 'python-requests/2.23.0', 'Accept-Encoding': 'gzip, deflate', 'Accept': 'application/json,*.*;q=0.9', 'Connection': 'keep-alive', 'Cache-Control': 'no-cache', 'Content-Type': 'application/json', 'X-Atlassian-Token': 'no-check'}}]\n",
      "2022-02-01 16:33:45 - Got ConnectionError [HTTPSConnectionPool(host='chopdna.atlassian.net', port=443): Max retries exceeded with url: /rest/api/2/serverInfo (Caused by SSLError(SSLError(\"bad handshake: Error([('SSL routines', 'tls_process_server_certificate', 'certificate verify failed')],)\",),))] errno:None on GET https://chopdna.atlassian.net/rest/api/2/serverInfo\n",
      "{'response': None, 'request': <PreparedRequest [GET]>}\n",
      "{'response': None, 'request': <PreparedRequest [GET]>}\n",
      "2022-02-01 16:33:45 - Got recoverable error from GET https://chopdna.atlassian.net/rest/api/2/serverInfo, will retry [1/3] in 9.944428307512926s. Err: HTTPSConnectionPool(host='chopdna.atlassian.net', port=443): Max retries exceeded with url: /rest/api/2/serverInfo (Caused by SSLError(SSLError(\"bad handshake: Error([('SSL routines', 'tls_process_server_certificate', 'certificate verify failed')],)\",),))\n"
     ]
    },
    {
     "ename": "AttributeError",
     "evalue": "'SSLError' object has no attribute 'headers'",
     "output_type": "error",
     "traceback": [
      "\u001b[1;31m---------------------------------------------------------------------------\u001b[0m",
      "\u001b[1;31mAttributeError\u001b[0m                            Traceback (most recent call last)",
      "\u001b[1;32m<ipython-input-4-26cb22ae5d49>\u001b[0m in \u001b[0;36m<module>\u001b[1;34m()\u001b[0m\n\u001b[0;32m     45\u001b[0m \u001b[0mJIRA_AUTH\u001b[0m \u001b[1;33m=\u001b[0m \u001b[1;33m(\u001b[0m\u001b[1;34mf\"{ USERNAME }@email.chop.edu\"\u001b[0m\u001b[1;33m,\u001b[0m \u001b[0mJIRA_TOKEN\u001b[0m\u001b[1;33m)\u001b[0m\u001b[1;33m\u001b[0m\u001b[0m\n\u001b[0;32m     46\u001b[0m \u001b[1;33m\u001b[0m\u001b[0m\n\u001b[1;32m---> 47\u001b[1;33m \u001b[0mchop_jira\u001b[0m \u001b[1;33m=\u001b[0m \u001b[0mjira\u001b[0m\u001b[1;33m.\u001b[0m\u001b[0mJIRA\u001b[0m\u001b[1;33m(\u001b[0m\u001b[1;34m\"https://chopdna.atlassian.net\"\u001b[0m\u001b[1;33m,\u001b[0m \u001b[0mbasic_auth\u001b[0m\u001b[1;33m=\u001b[0m\u001b[0mJIRA_AUTH\u001b[0m\u001b[1;33m)\u001b[0m\u001b[1;33m\u001b[0m\u001b[0m\n\u001b[0m\u001b[0;32m     48\u001b[0m \u001b[1;33m\u001b[0m\u001b[0m\n\u001b[0;32m     49\u001b[0m \u001b[1;31m# #############################################################################\u001b[0m\u001b[1;33m\u001b[0m\u001b[1;33m\u001b[0m\u001b[0m\n",
      "\u001b[1;32m~\\AppData\\Local\\Continuum\\anaconda3\\lib\\site-packages\\jira\\client.py\u001b[0m in \u001b[0;36m__init__\u001b[1;34m(self, server, options, basic_auth, oauth, jwt, kerberos, kerberos_options, validate, get_server_info, async_, async_workers, logging, max_retries, proxies, timeout, auth)\u001b[0m\n\u001b[0;32m    504\u001b[0m         \u001b[1;32mif\u001b[0m \u001b[0mget_server_info\u001b[0m\u001b[1;33m:\u001b[0m\u001b[1;33m\u001b[0m\u001b[0m\n\u001b[0;32m    505\u001b[0m             \u001b[1;31m# We need version in order to know what API calls are available or not\u001b[0m\u001b[1;33m\u001b[0m\u001b[1;33m\u001b[0m\u001b[0m\n\u001b[1;32m--> 506\u001b[1;33m             \u001b[0msi\u001b[0m \u001b[1;33m=\u001b[0m \u001b[0mself\u001b[0m\u001b[1;33m.\u001b[0m\u001b[0mserver_info\u001b[0m\u001b[1;33m(\u001b[0m\u001b[1;33m)\u001b[0m\u001b[1;33m\u001b[0m\u001b[0m\n\u001b[0m\u001b[0;32m    507\u001b[0m             \u001b[1;32mtry\u001b[0m\u001b[1;33m:\u001b[0m\u001b[1;33m\u001b[0m\u001b[0m\n\u001b[0;32m    508\u001b[0m                 \u001b[0mself\u001b[0m\u001b[1;33m.\u001b[0m\u001b[0m_version\u001b[0m \u001b[1;33m=\u001b[0m \u001b[0mtuple\u001b[0m\u001b[1;33m(\u001b[0m\u001b[0msi\u001b[0m\u001b[1;33m[\u001b[0m\u001b[1;34m\"versionNumbers\"\u001b[0m\u001b[1;33m]\u001b[0m\u001b[1;33m)\u001b[0m\u001b[1;33m\u001b[0m\u001b[0m\n",
      "\u001b[1;32m~\\AppData\\Local\\Continuum\\anaconda3\\lib\\site-packages\\jira\\client.py\u001b[0m in \u001b[0;36mserver_info\u001b[1;34m(self)\u001b[0m\n\u001b[0;32m   2549\u001b[0m         \"\"\"\n\u001b[0;32m   2550\u001b[0m         \u001b[0mretry\u001b[0m \u001b[1;33m=\u001b[0m \u001b[1;36m0\u001b[0m\u001b[1;33m\u001b[0m\u001b[0m\n\u001b[1;32m-> 2551\u001b[1;33m         \u001b[0mj\u001b[0m \u001b[1;33m=\u001b[0m \u001b[0mself\u001b[0m\u001b[1;33m.\u001b[0m\u001b[0m_get_json\u001b[0m\u001b[1;33m(\u001b[0m\u001b[1;34m\"serverInfo\"\u001b[0m\u001b[1;33m)\u001b[0m\u001b[1;33m\u001b[0m\u001b[0m\n\u001b[0m\u001b[0;32m   2552\u001b[0m         \u001b[1;32mwhile\u001b[0m \u001b[1;32mnot\u001b[0m \u001b[0mj\u001b[0m \u001b[1;32mand\u001b[0m \u001b[0mretry\u001b[0m \u001b[1;33m<\u001b[0m \u001b[1;36m3\u001b[0m\u001b[1;33m:\u001b[0m\u001b[1;33m\u001b[0m\u001b[0m\n\u001b[0;32m   2553\u001b[0m             logging.warning(\n",
      "\u001b[1;32m~\\AppData\\Local\\Continuum\\anaconda3\\lib\\site-packages\\jira\\client.py\u001b[0m in \u001b[0;36m_get_json\u001b[1;34m(self, path, params, base)\u001b[0m\n\u001b[0;32m   3137\u001b[0m         \"\"\"\n\u001b[0;32m   3138\u001b[0m         \u001b[0murl\u001b[0m \u001b[1;33m=\u001b[0m \u001b[0mself\u001b[0m\u001b[1;33m.\u001b[0m\u001b[0m_get_url\u001b[0m\u001b[1;33m(\u001b[0m\u001b[0mpath\u001b[0m\u001b[1;33m,\u001b[0m \u001b[0mbase\u001b[0m\u001b[1;33m)\u001b[0m\u001b[1;33m\u001b[0m\u001b[0m\n\u001b[1;32m-> 3139\u001b[1;33m         \u001b[0mr\u001b[0m \u001b[1;33m=\u001b[0m \u001b[0mself\u001b[0m\u001b[1;33m.\u001b[0m\u001b[0m_session\u001b[0m\u001b[1;33m.\u001b[0m\u001b[0mget\u001b[0m\u001b[1;33m(\u001b[0m\u001b[0murl\u001b[0m\u001b[1;33m,\u001b[0m \u001b[0mparams\u001b[0m\u001b[1;33m=\u001b[0m\u001b[0mparams\u001b[0m\u001b[1;33m)\u001b[0m\u001b[1;33m\u001b[0m\u001b[0m\n\u001b[0m\u001b[0;32m   3140\u001b[0m         \u001b[1;32mtry\u001b[0m\u001b[1;33m:\u001b[0m\u001b[1;33m\u001b[0m\u001b[0m\n\u001b[0;32m   3141\u001b[0m             \u001b[0mr_json\u001b[0m \u001b[1;33m=\u001b[0m \u001b[0mjson_loads\u001b[0m\u001b[1;33m(\u001b[0m\u001b[0mr\u001b[0m\u001b[1;33m)\u001b[0m\u001b[1;33m\u001b[0m\u001b[0m\n",
      "\u001b[1;32m~\\AppData\\Local\\Continuum\\anaconda3\\lib\\site-packages\\jira\\resilientsession.py\u001b[0m in \u001b[0;36mget\u001b[1;34m(self, url, **kwargs)\u001b[0m\n\u001b[0;32m    170\u001b[0m \u001b[1;33m\u001b[0m\u001b[0m\n\u001b[0;32m    171\u001b[0m     \u001b[1;32mdef\u001b[0m \u001b[0mget\u001b[0m\u001b[1;33m(\u001b[0m\u001b[0mself\u001b[0m\u001b[1;33m,\u001b[0m \u001b[0murl\u001b[0m\u001b[1;33m,\u001b[0m \u001b[1;33m**\u001b[0m\u001b[0mkwargs\u001b[0m\u001b[1;33m)\u001b[0m\u001b[1;33m:\u001b[0m\u001b[1;33m\u001b[0m\u001b[0m\n\u001b[1;32m--> 172\u001b[1;33m         \u001b[1;32mreturn\u001b[0m \u001b[0mself\u001b[0m\u001b[1;33m.\u001b[0m\u001b[0m__verb\u001b[0m\u001b[1;33m(\u001b[0m\u001b[1;34m\"GET\"\u001b[0m\u001b[1;33m,\u001b[0m \u001b[0murl\u001b[0m\u001b[1;33m,\u001b[0m \u001b[1;33m**\u001b[0m\u001b[0mkwargs\u001b[0m\u001b[1;33m)\u001b[0m\u001b[1;33m\u001b[0m\u001b[0m\n\u001b[0m\u001b[0;32m    173\u001b[0m \u001b[1;33m\u001b[0m\u001b[0m\n\u001b[0;32m    174\u001b[0m     \u001b[1;32mdef\u001b[0m \u001b[0mpost\u001b[0m\u001b[1;33m(\u001b[0m\u001b[0mself\u001b[0m\u001b[1;33m,\u001b[0m \u001b[0murl\u001b[0m\u001b[1;33m,\u001b[0m \u001b[1;33m**\u001b[0m\u001b[0mkwargs\u001b[0m\u001b[1;33m)\u001b[0m\u001b[1;33m:\u001b[0m\u001b[1;33m\u001b[0m\u001b[0m\n",
      "\u001b[1;32m~\\AppData\\Local\\Continuum\\anaconda3\\lib\\site-packages\\jira\\resilientsession.py\u001b[0m in \u001b[0;36m__verb\u001b[1;34m(self, verb, url, retry_data, **kwargs)\u001b[0m\n\u001b[0;32m    154\u001b[0m                 \u001b[0mresponse_or_exception\u001b[0m \u001b[1;33m=\u001b[0m \u001b[0mresponse\u001b[0m \u001b[1;32mif\u001b[0m \u001b[0mresponse\u001b[0m \u001b[1;32mis\u001b[0m \u001b[1;32mnot\u001b[0m \u001b[1;32mNone\u001b[0m \u001b[1;32melse\u001b[0m \u001b[0mexception\u001b[0m\u001b[1;33m\u001b[0m\u001b[0m\n\u001b[0;32m    155\u001b[0m                 if self.__recoverable(\n\u001b[1;32m--> 156\u001b[1;33m                     \u001b[0mresponse_or_exception\u001b[0m\u001b[1;33m,\u001b[0m \u001b[0murl\u001b[0m\u001b[1;33m,\u001b[0m \u001b[0mverb\u001b[0m\u001b[1;33m.\u001b[0m\u001b[0mupper\u001b[0m\u001b[1;33m(\u001b[0m\u001b[1;33m)\u001b[0m\u001b[1;33m,\u001b[0m \u001b[0mretry_number\u001b[0m\u001b[1;33m\u001b[0m\u001b[0m\n\u001b[0m\u001b[0;32m    157\u001b[0m                 ):\n\u001b[0;32m    158\u001b[0m                     \u001b[1;32mif\u001b[0m \u001b[0mretry_data\u001b[0m\u001b[1;33m:\u001b[0m\u001b[1;33m\u001b[0m\u001b[0m\n",
      "\u001b[1;32m~\\AppData\\Local\\Continuum\\anaconda3\\lib\\site-packages\\jira\\resilientsession.py\u001b[0m in \u001b[0;36m__recoverable\u001b[1;34m(self, response, url, request, counter)\u001b[0m\n\u001b[0;32m    118\u001b[0m             \u001b[1;33m%\u001b[0m \u001b[1;33m(\u001b[0m\u001b[0mrequest\u001b[0m\u001b[1;33m,\u001b[0m \u001b[0murl\u001b[0m\u001b[1;33m,\u001b[0m \u001b[0mcounter\u001b[0m\u001b[1;33m,\u001b[0m \u001b[0mself\u001b[0m\u001b[1;33m.\u001b[0m\u001b[0mmax_retries\u001b[0m\u001b[1;33m,\u001b[0m \u001b[0mdelay\u001b[0m\u001b[1;33m,\u001b[0m \u001b[0mmsg\u001b[0m\u001b[1;33m)\u001b[0m\u001b[1;33m\u001b[0m\u001b[0m\n\u001b[0;32m    119\u001b[0m         )\n\u001b[1;32m--> 120\u001b[1;33m         \u001b[0mlogging\u001b[0m\u001b[1;33m.\u001b[0m\u001b[0mdebug\u001b[0m\u001b[1;33m(\u001b[0m\u001b[1;34m\"response.headers: %s\"\u001b[0m\u001b[1;33m,\u001b[0m \u001b[0mresponse\u001b[0m\u001b[1;33m.\u001b[0m\u001b[0mheaders\u001b[0m\u001b[1;33m)\u001b[0m\u001b[1;33m\u001b[0m\u001b[0m\n\u001b[0m\u001b[0;32m    121\u001b[0m         \u001b[0mlogging\u001b[0m\u001b[1;33m.\u001b[0m\u001b[0mdebug\u001b[0m\u001b[1;33m(\u001b[0m\u001b[1;34m\"response.body: %s\"\u001b[0m\u001b[1;33m,\u001b[0m \u001b[0mresponse\u001b[0m\u001b[1;33m.\u001b[0m\u001b[0mcontent\u001b[0m\u001b[1;33m)\u001b[0m\u001b[1;33m\u001b[0m\u001b[0m\n\u001b[0;32m    122\u001b[0m         \u001b[0mtime\u001b[0m\u001b[1;33m.\u001b[0m\u001b[0msleep\u001b[0m\u001b[1;33m(\u001b[0m\u001b[0mdelay\u001b[0m\u001b[1;33m)\u001b[0m\u001b[1;33m\u001b[0m\u001b[0m\n",
      "\u001b[1;31mAttributeError\u001b[0m: 'SSLError' object has no attribute 'headers'"
     ]
    }
   ],
   "source": [
    "# #############################################################################\n",
    "# JIRA api setup variables\n",
    "# #############################################################################\n",
    "\n",
    "#USERNAME = os.getenv(\"USERNAME\")\n",
    "USERNAME='rybad'\n",
    "JIRA_TOKEN='KB7yNU0HwTq0uARQBfNp75AA'\n",
    "#JIRA_AUTH = (f\"{ USERNAME }@email.chop.edu\", os.getenv(\"JIRA_TOKEN\"))\n",
    "JIRA_AUTH = (f\"{ USERNAME }@email.chop.edu\", JIRA_TOKEN)\n",
    "\n",
    "chop_jira = jira.JIRA(\"https://chopdna.atlassian.net\", basic_auth=JIRA_AUTH)\n",
    "\n",
    "# #############################################################################\n",
    "# Write New Requests to JIRA\n",
    "# #############################################################################\n",
    "\n",
    "cr='\\r\\n'\n",
    "\n",
    "for _,row in daily_req_df.iterrows():\n",
    "    summary = row[\"REQUEST_TITLE\"]\n",
    "    description = row[\"STUDY_DESCRIPTION\"]    \n",
    "    requestor = row[\"REQUESTOR_NAME\"]\n",
    "    attach = drow[\"ATTACH\"]\n",
    "    new_issue = chop_jira.create_issue(\n",
    "        project=\"DA\",\n",
    "        summary=summary,\n",
    "        description=str(description)+chr(10)+f' Requested By:{requestor}'+chr(10)+f' Attachment:{attach}',\n",
    "        labels=['Cardiac'],\n",
    "        issuetype={\"name\": \"Task\"},\n",
    "    )"
   ]
  },
  {
   "cell_type": "code",
   "execution_count": null,
   "metadata": {},
   "outputs": [],
   "source": [
    "# #############################################################################\n",
    "# set REDCap records to True for \"Loaded to JIRA\"\n",
    "# #############################################################################\n",
    "\n",
    "daily_req_df['LOADED_TO_JIRA']=1\n",
    "daily_req_df.index.name = 'cc_data_request_id'\n",
    "daily_req_df['cc_data_request_id'] = daily_req_df.index\n",
    "daily_req_df.columns = map(str.lower, daily_req_df.columns)\n",
    "daily_req_upd = daily_req_df[[\"cc_data_request_id\", \"loaded_to_jira\"]]\n",
    "print(daily_req_upd)\n",
    "response = project.import_records(daily_req_upd)"
   ]
  }
 ],
 "metadata": {
  "kernelspec": {
   "display_name": "Python 3",
   "language": "python",
   "name": "python3"
  },
  "language_info": {
   "codemirror_mode": {
    "name": "ipython",
    "version": 3
   },
   "file_extension": ".py",
   "mimetype": "text/x-python",
   "name": "python",
   "nbconvert_exporter": "python",
   "pygments_lexer": "ipython3",
   "version": "3.6.4"
  }
 },
 "nbformat": 4,
 "nbformat_minor": 2
}
